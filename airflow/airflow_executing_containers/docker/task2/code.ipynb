{
 "cells": [
  {
   "cell_type": "markdown",
   "metadata": {},
   "source": [
    "# this should be transformed to little library later on\n",
    "to ensure every task saves to thed same directory"
   ]
  },
  {
   "cell_type": "code",
   "execution_count": 1,
   "metadata": {},
   "outputs": [
    {
     "name": "stdout",
     "output_type": "stream",
     "text": [
      "Saving result to /tmp/result.json\n",
      "Successfully saved tgz file.\n"
     ]
    }
   ],
   "source": [
    "import random\n",
    "import logging\n",
    "from result_saver import ResultSaver\n",
    "\n",
    "log = logging.getLogger(\"jupyter_code\")\n",
    "\n",
    "value = random.randint(10,20)\n",
    "log.info(f'I have drawn {value} seconds for the next task!')\n",
    "result = {\n",
    "    'sleeping_time': value\n",
    "}\n",
    "\n",
    "ResultSaver().save_result(result)"
   ]
  }
 ],
 "metadata": {
  "celltoolbar": "Tags",
  "kernelspec": {
   "display_name": "airflow_jupyter",
   "language": "python",
   "name": "airflow_jupyter"
  },
  "language_info": {
   "codemirror_mode": {
    "name": "ipython",
    "version": 3
   },
   "file_extension": ".py",
   "mimetype": "text/x-python",
   "name": "python",
   "nbconvert_exporter": "python",
   "pygments_lexer": "ipython3",
   "version": "3.6.6"
  }
 },
 "nbformat": 4,
 "nbformat_minor": 2
}
